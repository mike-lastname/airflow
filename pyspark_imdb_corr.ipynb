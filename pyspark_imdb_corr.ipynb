{
 "cells": [
  {
   "metadata": {},
   "cell_type": "markdown",
   "source": "#### Выявляем корреляцию между длиной названия фильма и его оценкой",
   "id": "f3d748bf7efeb5e4"
  },
  {
   "metadata": {
    "ExecuteTime": {
     "end_time": "2025-01-12T11:41:12.809231Z",
     "start_time": "2025-01-12T11:41:12.742965Z"
    }
   },
   "cell_type": "code",
   "source": [
    "# импорт\n",
    "from pyspark.sql import SparkSession\n",
    "from pyspark.sql import functions as F\n",
    "from funcs.spark_common import spark_read"
   ],
   "id": "1ba9092fb5e3d07a",
   "outputs": [],
   "execution_count": 1
  },
  {
   "metadata": {
    "ExecuteTime": {
     "end_time": "2025-01-12T11:41:19.289236Z",
     "start_time": "2025-01-12T11:41:15.864619Z"
    }
   },
   "cell_type": "code",
   "source": [
    "# инициализация spark\n",
    "\n",
    "spark = SparkSession \\\n",
    "    .builder \\\n",
    "    .appName(\"pyspark_imdb_corr\") \\\n",
    "    .master(\"local[2]\") \\\n",
    "    .config(\"spark.driver.memory\", \"10G\") \\\n",
    "    .config(\"spark.jars\", \"postgresql-42.7.4.jar\") \\\n",
    "    .getOrCreate()"
   ],
   "id": "a6ebb3148b483f84",
   "outputs": [],
   "execution_count": 2
  },
  {
   "metadata": {
    "ExecuteTime": {
     "end_time": "2025-01-12T11:41:24.425411Z",
     "start_time": "2025-01-12T11:41:23.069829Z"
    }
   },
   "cell_type": "code",
   "source": [
    "# загружаем данные в датафреймы из таблиц БД\n",
    "df_basics = spark_read(spark, \"basics\")\n",
    "df_ratings = spark_read(spark, \"ratings\")"
   ],
   "id": "c002fc5d5de2398f",
   "outputs": [],
   "execution_count": 3
  },
  {
   "metadata": {
    "ExecuteTime": {
     "end_time": "2025-01-12T12:10:51.012277Z",
     "start_time": "2025-01-12T12:10:43.070596Z"
    }
   },
   "cell_type": "code",
   "source": [
    "# фильтруем тип 'movie'\n",
    "# join таблиц basics и ratings\n",
    "# выбираем нужные колонки\n",
    "# добавляем колонку с длиной названия фильма\n",
    "df_join = df_basics \\\n",
    "    .where(\"titleType = 'movie'\") \\\n",
    "    .join(df_ratings, df_basics.tconst == df_ratings.tconst) \\\n",
    "    .select(df_basics.primaryTitle, df_ratings.averageRating, df_ratings.numVotes) \\\n",
    "    .withColumn(\"primaryTitle_length\", F.length(df_basics.primaryTitle))\n",
    "\n",
    "# нормализация колонки numVotes, получение конечной метрики\n",
    "min = df_join.agg({\"numVotes\": \"min\"}).collect()[0][0]\n",
    "max = df_join.agg({\"numVotes\": \"max\"}).collect()[0][0]\n",
    "df_join_norm = df_join. \\\n",
    "    withColumn('norm_numVotes', (F.col(\"numVotes\") - min)/(max - min)). \\\n",
    "    withColumn(\"final_metric\", (F.col(\"norm_numVotes\") * F.col(\"averageRating\"))). \\\n",
    "    drop(\"norm_numVotes\")\n",
    "\n",
    "# расчет корреляции\n",
    "corr_norm = df_join_norm.select(F.round(F.corr(\"primaryTitle_length\", \"final_metric\"), 3)).collect()[0][0]\n",
    "corr_norm"
   ],
   "id": "625a70a427cdcec",
   "outputs": [
    {
     "data": {
      "text/plain": [
       "-0.013"
      ]
     },
     "execution_count": 9,
     "metadata": {},
     "output_type": "execute_result"
    }
   ],
   "execution_count": 9
  }
 ],
 "metadata": {
  "kernelspec": {
   "display_name": "Python 3",
   "language": "python",
   "name": "python3"
  },
  "language_info": {
   "codemirror_mode": {
    "name": "ipython",
    "version": 2
   },
   "file_extension": ".py",
   "mimetype": "text/x-python",
   "name": "python",
   "nbconvert_exporter": "python",
   "pygments_lexer": "ipython2",
   "version": "2.7.6"
  }
 },
 "nbformat": 4,
 "nbformat_minor": 5
}
