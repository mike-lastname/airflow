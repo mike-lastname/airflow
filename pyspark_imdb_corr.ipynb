{
 "cells": [
  {
   "metadata": {},
   "cell_type": "markdown",
   "source": "#### Выявляем корреляцию между длиной названия фильма и его оценкой",
   "id": "f3d748bf7efeb5e4"
  },
  {
   "metadata": {
    "ExecuteTime": {
     "end_time": "2025-01-06T10:40:22.679203Z",
     "start_time": "2025-01-06T10:40:22.414449Z"
    }
   },
   "cell_type": "code",
   "source": [
    "# импорт\n",
    "from pyspark.sql import SparkSession\n",
    "from pyspark.sql import functions as F"
   ],
   "id": "1ba9092fb5e3d07a",
   "outputs": [],
   "execution_count": 1
  },
  {
   "metadata": {
    "ExecuteTime": {
     "end_time": "2025-01-06T10:40:29.214341Z",
     "start_time": "2025-01-06T10:40:23.783284Z"
    }
   },
   "cell_type": "code",
   "source": [
    "# инициализация spark\n",
    "\n",
    "spark = SparkSession \\\n",
    "    .builder \\\n",
    "    .appName(\"pyspark_imdb_corr\") \\\n",
    "    .master(\"local[1]\") \\\n",
    "    .config(\"spark.driver.memory\", \"10G\") \\\n",
    "    .config(\"spark.jars\", \"postgresql-42.7.4.jar\") \\\n",
    "    .getOrCreate()"
   ],
   "id": "a6ebb3148b483f84",
   "outputs": [],
   "execution_count": 2
  },
  {
   "metadata": {
    "ExecuteTime": {
     "end_time": "2025-01-06T10:40:43.097698Z",
     "start_time": "2025-01-06T10:40:40.672725Z"
    }
   },
   "cell_type": "code",
   "source": [
    "# загрузка данных в датафреймы из таблиц БД\n",
    "\n",
    "df_basics = spark.read \\\n",
    "    .format(\"jdbc\") \\\n",
    "    .option(\"url\", \"jdbc:postgresql://localhost:5432/imdb\") \\\n",
    "    .option(\"dbtable\", \"basics\") \\\n",
    "    .option(\"user\", \"postgres\") \\\n",
    "    .option(\"password\", \"123\") \\\n",
    "    .option(\"driver\", \"org.postgresql.Driver\") \\\n",
    "    .load()\n",
    "\n",
    "df_ratings = spark.read \\\n",
    "    .format(\"jdbc\") \\\n",
    "    .option(\"url\", \"jdbc:postgresql://localhost:5432/imdb\") \\\n",
    "    .option(\"dbtable\", \"ratings\") \\\n",
    "    .option(\"user\", \"postgres\") \\\n",
    "    .option(\"password\", \"123\") \\\n",
    "    .option(\"driver\", \"org.postgresql.Driver\") \\\n",
    "    .load()"
   ],
   "id": "c002fc5d5de2398f",
   "outputs": [],
   "execution_count": 3
  },
  {
   "metadata": {
    "ExecuteTime": {
     "end_time": "2025-01-06T12:21:47.191856Z",
     "start_time": "2025-01-06T12:21:47.152546Z"
    }
   },
   "cell_type": "code",
   "source": [
    "# фильтруем тип 'movie'\n",
    "df_basics = df_basics.where(df_basics.titleType == 'movie')\n",
    "\n",
    "# join таблиц basics и ratings\n",
    "# выбираем нужные колонки\n",
    "# добавляем колонку с длиной названия фильма\n",
    "df_join = df_basics.join(df_ratings, df_basics.tconst == df_ratings.tconst). \\\n",
    "    select(df_basics.primaryTitle, df_ratings.averageRating, df_ratings.numVotes). \\\n",
    "    withColumn(\"primaryTitle_length\", F.length(df_basics.primaryTitle))"
   ],
   "id": "625a70a427cdcec",
   "outputs": [],
   "execution_count": 30
  },
  {
   "metadata": {
    "ExecuteTime": {
     "end_time": "2025-01-06T12:38:48.278561Z",
     "start_time": "2025-01-06T12:38:48.251693Z"
    }
   },
   "cell_type": "code",
   "source": [
    "# расчет корреляции без учета количества оценок\n",
    "corr_no_numVotes = df_join.select(F.corr(\"primaryTitle_length\", \"averageRating\"))\n",
    "corr_no_numVotes.collect()[0][0]"
   ],
   "id": "da19e20f9a23b656",
   "outputs": [],
   "execution_count": 32
  },
  {
   "metadata": {
    "ExecuteTime": {
     "end_time": "2025-01-06T12:44:25.838939Z",
     "start_time": "2025-01-06T12:44:16.778251Z"
    }
   },
   "cell_type": "code",
   "source": [
    "# нормализация колонки numVotes, получение конечной метрики\n",
    "min = df_join.agg({\"numVotes\": \"min\"}).collect()[0][0]\n",
    "max = df_join.agg({\"numVotes\": \"max\"}).collect()[0][0]\n",
    "df_join_norm = df_join. \\\n",
    "    withColumn('norm_numVotes', (F.col(\"numVotes\") - min)/(max - min)). \\\n",
    "    withColumn(\"final_metric\", (F.col(\"norm_numVotes\") * F.col(\"averageRating\"))). \\\n",
    "    drop(\"norm_numVotes\")"
   ],
   "id": "3251932b49b8dd4b",
   "outputs": [],
   "execution_count": 36
  },
  {
   "metadata": {
    "ExecuteTime": {
     "end_time": "2025-01-06T12:46:07.016024Z",
     "start_time": "2025-01-06T12:46:01.488346Z"
    }
   },
   "cell_type": "code",
   "source": "corr_norm = df_join_norm.select(F.corr(\"primaryTitle_length\", \"final_metric\")).collect()[0][0]",
   "id": "fb0c0fc00e1198df",
   "outputs": [],
   "execution_count": 40
  },
  {
   "metadata": {
    "ExecuteTime": {
     "end_time": "2025-01-06T12:46:07.032512Z",
     "start_time": "2025-01-06T12:46:07.025036Z"
    }
   },
   "cell_type": "code",
   "source": "corr_norm",
   "id": "91c1748dd4f584d9",
   "outputs": [
    {
     "data": {
      "text/plain": [
       "-0.0134455476303509"
      ]
     },
     "execution_count": 41,
     "metadata": {},
     "output_type": "execute_result"
    }
   ],
   "execution_count": 41
  }
 ],
 "metadata": {
  "kernelspec": {
   "display_name": "Python 3",
   "language": "python",
   "name": "python3"
  },
  "language_info": {
   "codemirror_mode": {
    "name": "ipython",
    "version": 2
   },
   "file_extension": ".py",
   "mimetype": "text/x-python",
   "name": "python",
   "nbconvert_exporter": "python",
   "pygments_lexer": "ipython2",
   "version": "2.7.6"
  }
 },
 "nbformat": 4,
 "nbformat_minor": 5
}
