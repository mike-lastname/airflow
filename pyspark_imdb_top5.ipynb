{
 "cells": [
  {
   "metadata": {},
   "cell_type": "markdown",
   "source": [
    "#### Задание\n",
    "Имеются таблицы с данными фильмов.\n",
    "\n",
    "1 таблица - basics. \\\n",
    "Структура полей и описание: \\\n",
    "tconst (string) - alphanumeric unique identifier of the title \\\n",
    "titleType (string) – the type/format of the title (e.g. movie, short, tvseries, tvepisode, video, etc) \\\n",
    "primaryTitle (string) – the more popular title / the title used by the filmmakers on promotional materials at the point of release \\\n",
    "originalTitle (string) - original title, in the original language \\\n",
    "isAdult (boolean) - 0: non-adult title; 1: adult title \\\n",
    "startYear (YYYY) – represents the release year of a title. In the case of TV Series, it is the series start year \\\n",
    "endYear (YYYY) – TV Series end year. '\\N' for all other title types \\\n",
    "runtimeMinutes – primary runtime of the title, in minutes \\\n",
    "genres (string array) – includes up to three genres associated with the title\n",
    "\n",
    "2 таблица - ratings. \\\n",
    "Структура полей и описание: \\\n",
    "tconst (string) - alphanumeric unique identifier of the title \\\n",
    "averageRating – weighted average of all the individual user ratings \\\n",
    "numVotes - number of votes the title has received\n",
    "\n",
    "Нужно показать топ 5 самых высокооцененных жанров фильмов за последние 10, 20, 30 лет."
   ],
   "id": "cd3a572086f6266a"
  },
  {
   "metadata": {
    "ExecuteTime": {
     "end_time": "2025-01-06T10:33:16.595644Z",
     "start_time": "2025-01-06T10:33:16.395275Z"
    }
   },
   "cell_type": "code",
   "source": [
    "# импорт\n",
    "from pyspark.sql import SparkSession\n",
    "from pyspark.sql import functions as F"
   ],
   "id": "30e967450128517b",
   "outputs": [],
   "execution_count": 2
  },
  {
   "metadata": {
    "ExecuteTime": {
     "end_time": "2025-01-06T10:33:22.856964Z",
     "start_time": "2025-01-06T10:33:18.314018Z"
    }
   },
   "cell_type": "code",
   "source": [
    "# инициализация spark\n",
    "\n",
    "spark = SparkSession \\\n",
    "    .builder \\\n",
    "    .appName(\"pyspark_imdb_top5\") \\\n",
    "    .master(\"local[1]\") \\\n",
    "    .config(\"spark.driver.memory\", \"10G\") \\\n",
    "    .config(\"spark.jars\", \"postgresql-42.7.4.jar\") \\\n",
    "    .getOrCreate()"
   ],
   "id": "2fd6862a19165437",
   "outputs": [],
   "execution_count": 3
  },
  {
   "metadata": {
    "ExecuteTime": {
     "end_time": "2025-01-06T10:33:26.365049Z",
     "start_time": "2025-01-06T10:33:24.360954Z"
    }
   },
   "cell_type": "code",
   "source": [
    "# загрузка данных в датафреймы из таблиц БД\n",
    "\n",
    "df_basics = spark.read \\\n",
    "    .format(\"jdbc\") \\\n",
    "    .option(\"url\", \"jdbc:postgresql://localhost:5432/imdb\") \\\n",
    "    .option(\"dbtable\", \"basics\") \\\n",
    "    .option(\"user\", \"postgres\") \\\n",
    "    .option(\"password\", \"123\") \\\n",
    "    .option(\"driver\", \"org.postgresql.Driver\") \\\n",
    "    .load()\n",
    "\n",
    "df_ratings = spark.read \\\n",
    "    .format(\"jdbc\") \\\n",
    "    .option(\"url\", \"jdbc:postgresql://localhost:5432/imdb\") \\\n",
    "    .option(\"dbtable\", \"ratings\") \\\n",
    "    .option(\"user\", \"postgres\") \\\n",
    "    .option(\"password\", \"123\") \\\n",
    "    .option(\"driver\", \"org.postgresql.Driver\") \\\n",
    "    .load()"
   ],
   "id": "2e148a4c8eb5ba7f",
   "outputs": [],
   "execution_count": 4
  },
  {
   "metadata": {
    "ExecuteTime": {
     "end_time": "2025-01-06T10:33:37.847835Z",
     "start_time": "2025-01-06T10:33:29.548825Z"
    }
   },
   "cell_type": "code",
   "source": [
    "# фильтруем тип 'movie'\n",
    "df_basics = df_basics.where(df_basics.titleType == 'movie')\n",
    "\n",
    "# join датафреймов и выбор нужных столбцов\n",
    "df_join = df_basics \\\n",
    "    .join(df_ratings, df_basics.tconst == df_ratings.tconst). \\\n",
    "    select(df_basics.startYear, df_basics.genres, df_ratings.averageRating, df_ratings.numVotes)\n",
    "\n",
    "# находим максимальный год выпуска фильмов в датафрейме\n",
    "max_year = df_join.agg(F.max(F.col(\"startYear\"))).collect()[0][0]\n",
    "\n",
    "# сплит и разбиение на строки колонки genres\n",
    "df_join = df_join.withColumn(\"genres\", F.explode(F.split(\"genres\", \",\")))"
   ],
   "id": "8b8d5d873124068c",
   "outputs": [],
   "execution_count": 5
  },
  {
   "metadata": {
    "ExecuteTime": {
     "end_time": "2025-01-06T10:34:27.578030Z",
     "start_time": "2025-01-06T10:33:39.699350Z"
    }
   },
   "cell_type": "code",
   "source": [
    "# выбор нужных колонок, группировка по жанрам и агрегация количества оценок и средней оценки для каждого диапазона (10, 20, 30 лет)\n",
    "df_join = df_join.select(\"startYear\", \"genres\", \"averageRating\", \"numVotes\")\n",
    "df_top5_10years = df_join. \\\n",
    "    where((max_year - df_join.startYear) <= 10). \\\n",
    "    groupby(\"genres\"). \\\n",
    "    agg({\"numVotes\": \"sum\", \"averageRating\": \"mean\"}). \\\n",
    "    drop(\"startYear\")\n",
    "\n",
    "df_top5_20years = df_join. \\\n",
    "    where((max_year - df_join.startYear) <= 20). \\\n",
    "    groupby(\"genres\"). \\\n",
    "    agg({\"numVotes\": \"sum\", \"averageRating\": \"mean\"}). \\\n",
    "    drop(\"startYear\")\n",
    "\n",
    "df_top5_30years = df_join. \\\n",
    "    where((max_year - df_join.startYear) <= 30). \\\n",
    "    groupby(\"genres\"). \\\n",
    "    agg({\"numVotes\": \"sum\", \"averageRating\": \"mean\"}). \\\n",
    "    drop(\"startYear\")\n",
    "\n",
    "# нормализация и получение конечной метрики\n",
    "min = df_top5_10years.agg({\"sum(numVotes)\": \"min\"}).collect()[0][0]\n",
    "max = df_top5_10years.agg({\"sum(numVotes)\": \"max\"}).collect()[0][0]\n",
    "df_top5_10years = df_top5_10years.withColumn('norm_numVotes', (F.col(\"sum(numVotes)\") - min)/(max - min))\n",
    "df_top5_10years = df_top5_10years.withColumn(\"final_metric\", F.round((F.col(\"norm_numVotes\") * F.col(\"avg(averageRating)\")), 2))\n",
    "df_top5_10years = df_top5_10years.select(\"genres\").sort(F.desc(\"final_metric\")).limit(5)\n",
    "\n",
    "min = df_top5_20years.agg({\"sum(numVotes)\": \"min\"}).collect()[0][0]\n",
    "max = df_top5_20years.agg({\"sum(numVotes)\": \"max\"}).collect()[0][0]\n",
    "df_top5_20years = df_top5_20years.withColumn('norm_numVotes', (F.col(\"sum(numVotes)\") - min)/(max - min))\n",
    "df_top5_20years = df_top5_20years.withColumn(\"final_metric\", F.round((F.col(\"norm_numVotes\") * F.col(\"avg(averageRating)\")), 2))\n",
    "df_top5_20years = df_top5_20years.select(\"genres\").sort(F.desc(\"final_metric\")).limit(5)\n",
    "\n",
    "min = df_top5_30years.agg({\"sum(numVotes)\": \"min\"}).collect()[0][0]\n",
    "max = df_top5_30years.agg({\"sum(numVotes)\": \"max\"}).collect()[0][0]\n",
    "df_top5_30years = df_top5_30years.withColumn('norm_numVotes', (F.col(\"sum(numVotes)\") - min)/(max - min))\n",
    "df_top5_30years = df_top5_30years.withColumn(\"final_metric\", F.round((F.col(\"norm_numVotes\") * F.col(\"avg(averageRating)\")), 2))\n",
    "df_top5_30years = df_top5_30years.select(\"genres\").sort(F.desc(\"final_metric\")).limit(5)\n",
    "\n",
    "# сохранение в файл\n",
    "df_top5_10years.write.parquet(\"top5_10years.parquet\")\n",
    "df_top5_20years.write.parquet(\"top5_20years.parquet\")\n",
    "df_top5_30years.write.parquet(\"top5_30years.parquet\")"
   ],
   "id": "16f7320e3f83c98",
   "outputs": [],
   "execution_count": 6
  },
  {
   "metadata": {
    "ExecuteTime": {
     "end_time": "2025-01-06T17:17:13.473152Z",
     "start_time": "2025-01-06T17:17:05.821982Z"
    }
   },
   "cell_type": "code",
   "source": "df_top5_10years.show()",
   "id": "94fae65b20322e46",
   "outputs": [
    {
     "name": "stdout",
     "output_type": "stream",
     "text": [
      "+---------+\n",
      "|   genres|\n",
      "+---------+\n",
      "|    Drama|\n",
      "|   Action|\n",
      "|Adventure|\n",
      "|   Comedy|\n",
      "|    Crime|\n",
      "+---------+\n",
      "\n"
     ]
    }
   ],
   "execution_count": 9
  },
  {
   "metadata": {
    "ExecuteTime": {
     "end_time": "2025-01-06T17:17:18.767387Z",
     "start_time": "2025-01-06T17:17:13.490163Z"
    }
   },
   "cell_type": "code",
   "source": "df_top5_20years.show()",
   "id": "172013c43b1df65c",
   "outputs": [
    {
     "name": "stdout",
     "output_type": "stream",
     "text": [
      "+---------+\n",
      "|   genres|\n",
      "+---------+\n",
      "|    Drama|\n",
      "|   Action|\n",
      "|   Comedy|\n",
      "|Adventure|\n",
      "| Thriller|\n",
      "+---------+\n",
      "\n"
     ]
    }
   ],
   "execution_count": 10
  },
  {
   "metadata": {
    "ExecuteTime": {
     "end_time": "2025-01-06T17:17:25.022081Z",
     "start_time": "2025-01-06T17:17:18.795447Z"
    }
   },
   "cell_type": "code",
   "source": "df_top5_30years.show()",
   "id": "1d0bd8e5f36692",
   "outputs": [
    {
     "name": "stdout",
     "output_type": "stream",
     "text": [
      "+---------+\n",
      "|   genres|\n",
      "+---------+\n",
      "|    Drama|\n",
      "|   Action|\n",
      "|   Comedy|\n",
      "|Adventure|\n",
      "|    Crime|\n",
      "+---------+\n",
      "\n"
     ]
    }
   ],
   "execution_count": 11
  }
 ],
 "metadata": {
  "kernelspec": {
   "display_name": "Python 3",
   "language": "python",
   "name": "python3"
  },
  "language_info": {
   "codemirror_mode": {
    "name": "ipython",
    "version": 2
   },
   "file_extension": ".py",
   "mimetype": "text/x-python",
   "name": "python",
   "nbconvert_exporter": "python",
   "pygments_lexer": "ipython2",
   "version": "2.7.6"
  }
 },
 "nbformat": 4,
 "nbformat_minor": 5
}
