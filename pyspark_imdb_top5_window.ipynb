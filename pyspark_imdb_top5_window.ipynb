{
 "cells": [
  {
   "metadata": {},
   "cell_type": "markdown",
   "source": [
    "### Задание\n",
    "Имеются таблицы с данными фильмов.\n",
    "\n",
    "1 таблица - basics. \\\n",
    "Структура полей и описание: \\\n",
    "tconst (string) - alphanumeric unique identifier of the title \\\n",
    "titleType (string) – the type/format of the title (e.g. movie, short, tvseries, tvepisode, video, etc) \\\n",
    "primaryTitle (string) – the more popular title / the title used by the filmmakers on promotional materials at the point of release \\\n",
    "originalTitle (string) - original title, in the original language \\\n",
    "isAdult (boolean) - 0: non-adult title; 1: adult title \\\n",
    "startYear (YYYY) – represents the release year of a title. In the case of TV Series, it is the series start year \\\n",
    "endYear (YYYY) – TV Series end year. '\\N' for all other title types \\\n",
    "runtimeMinutes – primary runtime of the title, in minutes \\\n",
    "genres (string array) – includes up to three genres associated with the title\n",
    "\n",
    "2 таблица - ratings. \\\n",
    "Структура полей и описание: \\\n",
    "tconst (string) - alphanumeric unique identifier of the title \\\n",
    "averageRating – weighted average of all the individual user ratings \\\n",
    "numVotes - number of votes the title has received\n",
    "\n",
    "Нужно показать топ 5 самых высокооцененных жанров фильмов за последние 10, 20, 30 лет."
   ],
   "id": "cd3a572086f6266a"
  },
  {
   "metadata": {
    "ExecuteTime": {
     "end_time": "2025-01-11T21:14:56.072408Z",
     "start_time": "2025-01-11T21:14:56.067426Z"
    }
   },
   "cell_type": "code",
   "source": [
    "# импорт\n",
    "from pyspark.sql import SparkSession\n",
    "from pyspark.sql import functions as F, Window"
   ],
   "id": "30e967450128517b",
   "outputs": [],
   "execution_count": 142
  },
  {
   "metadata": {
    "ExecuteTime": {
     "end_time": "2025-01-11T21:14:56.093824Z",
     "start_time": "2025-01-11T21:14:56.087426Z"
    }
   },
   "cell_type": "code",
   "source": [
    "# инициализация spark\n",
    "spark = SparkSession \\\n",
    "    .builder \\\n",
    "    .appName(\"pyspark_imdb_top5\") \\\n",
    "    .master(\"local[2]\") \\\n",
    "    .config(\"spark.driver.memory\", \"10G\") \\\n",
    "    .config(\"spark.jars\", \"postgresql-42.7.4.jar\") \\\n",
    "    .getOrCreate()"
   ],
   "id": "2fd6862a19165437",
   "outputs": [],
   "execution_count": 143
  },
  {
   "metadata": {
    "ExecuteTime": {
     "end_time": "2025-01-11T21:14:56.202390Z",
     "start_time": "2025-01-11T21:14:56.093824Z"
    }
   },
   "cell_type": "code",
   "source": [
    "# загрузка данных в датафреймы из таблиц БД\n",
    "df_basics = spark.read \\\n",
    "    .format(\"jdbc\") \\\n",
    "    .option(\"url\", \"jdbc:postgresql://localhost:5432/movies\") \\\n",
    "    .option(\"dbtable\", \"basics\") \\\n",
    "    .option(\"user\", \"postgres\") \\\n",
    "    .option(\"password\", \"123\") \\\n",
    "    .option(\"driver\", \"org.postgresql.Driver\") \\\n",
    "    .load()\n",
    "\n",
    "df_ratings = spark.read \\\n",
    "    .format(\"jdbc\") \\\n",
    "    .option(\"url\", \"jdbc:postgresql://localhost:5432/movies\") \\\n",
    "    .option(\"dbtable\", \"ratings\") \\\n",
    "    .option(\"user\", \"postgres\") \\\n",
    "    .option(\"password\", \"123\") \\\n",
    "    .option(\"driver\", \"org.postgresql.Driver\") \\\n",
    "    .load()"
   ],
   "id": "2e148a4c8eb5ba7f",
   "outputs": [],
   "execution_count": 144
  },
  {
   "metadata": {
    "ExecuteTime": {
     "end_time": "2025-01-11T21:14:58.130639Z",
     "start_time": "2025-01-11T21:14:56.211522Z"
    }
   },
   "cell_type": "code",
   "source": [
    "# фильтруем тип 'movie'\n",
    "df_basics = df_basics.where(\"titleType = 'movie'\")\n",
    "\n",
    "# join датафреймов и выбор нужных столбцов\n",
    "df = df_basics \\\n",
    "    .join(df_ratings, df_basics.tconst == df_ratings.tconst). \\\n",
    "    select(df_basics.startYear, df_basics.genres, df_ratings.averageRating, df_ratings.numVotes)\n",
    "\n",
    "# находим максимальный год выпуска фильмов в датафрейме\n",
    "max_year = df.agg(F.max(F.col(\"startYear\"))).collect()[0][0]\n",
    "\n",
    "# сплит и разбиение на строки колонки genres\n",
    "df = df.withColumn(\"genres\", F.explode(F.split(\"genres\", \",\"))).sort(F.desc(\"startYear\"))"
   ],
   "id": "8b8d5d873124068c",
   "outputs": [],
   "execution_count": 145
  },
  {
   "metadata": {
    "ExecuteTime": {
     "end_time": "2025-01-11T21:14:58.151586Z",
     "start_time": "2025-01-11T21:14:58.139297Z"
    }
   },
   "cell_type": "code",
   "source": [
    "# список десятилетий, за которые нужно рассчитать топ 5 жанров\n",
    "range_list = [10, 20, 30]\n",
    "\n",
    "# формируемы выражение case when, чтобы проставить признак десятилетия для каждого фильма\n",
    "when_str = \"\\n\".join([f\"WHEN {max_year}-startYear<={i} THEN 'top5_{i}'\" for i in range_list])\n",
    "sql = f\"CASE\\n{when_str}\\nELSE NULL\\nEND\"\n",
    "\n",
    "# проставляем признак десятилетия\n",
    "df = df.withColumn(\"top5\", F.expr(sql)).dropna(subset=\"top5\")"
   ],
   "id": "834a1f6e9f125f0a",
   "outputs": [],
   "execution_count": 146
  },
  {
   "metadata": {
    "ExecuteTime": {
     "end_time": "2025-01-11T21:14:58.221190Z",
     "start_time": "2025-01-11T21:14:58.160407Z"
    }
   },
   "cell_type": "code",
   "source": [
    "# окна\n",
    "w_1 = Window.partitionBy(\"top5\", \"genres\")\n",
    "w_2 = Window.partitionBy(\"top5\")\n",
    "\n",
    "# считаем общее количество оценок для каждого жанра в каждом десятилетии\n",
    "# считаем среднюю оценку для каждого жанра в каждом десятилетии\n",
    "# считаем максимальное и минимальное количество голосов в каждом десятилетии\n",
    "# рассчитываем метрику\n",
    "# дропаем лишние столбцы\n",
    "# удаляем дубликаты и сортируем\n",
    "\n",
    "df = df. \\\n",
    "    withColumn(\"total_votes\", F.sum(\"numVotes\").over(w_1)). \\\n",
    "    withColumn(\"avg_rating\", F.mean(\"averageRating\").over(w_1)). \\\n",
    "    withColumn(\"maxi\", F.max(\"total_votes\").over(w_2)) . \\\n",
    "    withColumn(\"mini\", F.min(\"total_votes\").over(w_2)). \\\n",
    "    withColumn(\"metric\", F.round((F.col(\"avg_rating\") * ((F.col(\"total_votes\") - F.col(\"mini\")) / (F.col(\"maxi\") - F.col(\"mini\")))), 2)). \\\n",
    "    drop(\"startYear\", \"averageRating\", \"numVotes\", \"total_votes\", \"avg_rating\", \"maxi\", \"mini\"). \\\n",
    "    distinct(). \\\n",
    "    sort(F.asc(\"top5\"), F.desc(\"metric\"))\n",
    "\n",
    "# фильтруем топ 5 жанров для каждого десятилетия\n",
    "df = df. \\\n",
    "    withColumn(\"id\", F.row_number().over(Window.partitionBy(\"top5\").orderBy(\"top5\"))). \\\n",
    "    where(\"id <= 5\"). \\\n",
    "    drop(\"metric\")"
   ],
   "id": "668594b35f39f2b4",
   "outputs": [],
   "execution_count": 147
  },
  {
   "metadata": {
    "ExecuteTime": {
     "end_time": "2025-01-11T21:15:07.123641Z",
     "start_time": "2025-01-11T21:14:58.229645Z"
    }
   },
   "cell_type": "code",
   "source": [
    "# делаем pivot таблицы, получаем конечный результат\n",
    "df_result = df.groupBy(\"id\").pivot(\"top5\").agg(F.first(\"genres\"))\n",
    "\n",
    "# сохраняем результат в паркет\n",
    "df_result.write.parquet(\"top5_result.parquet\")"
   ],
   "id": "f305833cf1dab2cd",
   "outputs": [],
   "execution_count": 148
  },
  {
   "metadata": {
    "ExecuteTime": {
     "end_time": "2025-01-11T21:15:11.348108Z",
     "start_time": "2025-01-11T21:15:07.133652Z"
    }
   },
   "cell_type": "code",
   "source": "df_result.show()",
   "id": "4e3dc360f6907c1",
   "outputs": [
    {
     "name": "stdout",
     "output_type": "stream",
     "text": [
      "+---+---------+---------+---------+\n",
      "| id|  top5_10|  top5_20|  top5_30|\n",
      "+---+---------+---------+---------+\n",
      "|  1|    Drama|    Drama|    Drama|\n",
      "|  2|   Action|   Action|   Comedy|\n",
      "|  3|Adventure|   Comedy|   Action|\n",
      "|  4|   Comedy|Adventure|Adventure|\n",
      "|  5|    Crime| Thriller|    Crime|\n",
      "+---+---------+---------+---------+\n",
      "\n"
     ]
    }
   ],
   "execution_count": 149
  }
 ],
 "metadata": {
  "kernelspec": {
   "display_name": "Python 3",
   "language": "python",
   "name": "python3"
  },
  "language_info": {
   "codemirror_mode": {
    "name": "ipython",
    "version": 2
   },
   "file_extension": ".py",
   "mimetype": "text/x-python",
   "name": "python",
   "nbconvert_exporter": "python",
   "pygments_lexer": "ipython2",
   "version": "2.7.6"
  }
 },
 "nbformat": 4,
 "nbformat_minor": 5
}
